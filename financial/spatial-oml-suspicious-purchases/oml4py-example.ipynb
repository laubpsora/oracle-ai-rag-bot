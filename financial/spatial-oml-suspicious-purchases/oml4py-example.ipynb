import oml
import pandas as pd

# Connect
oml.connect(user="admin", password="Welcome123", dsn="financialdb_high")

# Create an in-DB table proxy
data = oml.sync(pd.read_csv("customers.csv"))
data.save('CUSTOMERS_DATA')

# Train a model inside Oracle
from oml.models.classification import RandomForestClassifier

model = RandomForestClassifier()
model.fit(data[["AGE", "INCOME"]], data["BUYING_SCORE"])

# Make predictions
predictions = model.predict(data[["AGE", "INCOME"]])

print(predictions)