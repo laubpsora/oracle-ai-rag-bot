{
 "cells": [
  {
   "cell_type": "code",
   "execution_count": 3,
   "id": "d264cf7b",
   "metadata": {},
   "outputs": [],
   "source": [
    "import pandas as pd"
   ]
  },
  {
   "cell_type": "markdown",
   "id": "94274f36",
   "metadata": {},
   "source": [
    "Recursive and Detailed csv are the same, but detailed has some extra features if they're needed, scraped is a small version of the data with just the most important hyperlinks"
   ]
  },
  {
   "cell_type": "code",
   "execution_count": 4,
   "id": "1ddcd6c6",
   "metadata": {},
   "outputs": [
    {
     "name": "stdout",
     "output_type": "stream",
     "text": [
      "203\n"
     ]
    },
    {
     "data": {
      "text/html": [
       "<div>\n",
       "<style scoped>\n",
       "    .dataframe tbody tr th:only-of-type {\n",
       "        vertical-align: middle;\n",
       "    }\n",
       "\n",
       "    .dataframe tbody tr th {\n",
       "        vertical-align: top;\n",
       "    }\n",
       "\n",
       "    .dataframe thead th {\n",
       "        text-align: right;\n",
       "    }\n",
       "</style>\n",
       "<table border=\"1\" class=\"dataframe\">\n",
       "  <thead>\n",
       "    <tr style=\"text-align: right;\">\n",
       "      <th></th>\n",
       "      <th>id</th>\n",
       "      <th>url</th>\n",
       "      <th>title</th>\n",
       "      <th>word_count</th>\n",
       "      <th>character_count</th>\n",
       "      <th>depth</th>\n",
       "      <th>links_found</th>\n",
       "      <th>domain</th>\n",
       "      <th>path</th>\n",
       "      <th>url_type</th>\n",
       "      <th>section</th>\n",
       "      <th>status</th>\n",
       "      <th>scraped_timestamp</th>\n",
       "      <th>text</th>\n",
       "    </tr>\n",
       "  </thead>\n",
       "  <tbody>\n",
       "    <tr>\n",
       "      <th>0</th>\n",
       "      <td>1</td>\n",
       "      <td>https://docs.oracle.com/en-us/iaas/Content/gen...</td>\n",
       "      <td>Overview of Generative AI Service</td>\n",
       "      <td>1130</td>\n",
       "      <td>7103</td>\n",
       "      <td>0</td>\n",
       "      <td>9</td>\n",
       "      <td>docs.oracle.com</td>\n",
       "      <td>/en-us/iaas/Content/generative-ai/overview.htm</td>\n",
       "      <td>Overview</td>\n",
       "      <td>Overview</td>\n",
       "      <td>success</td>\n",
       "      <td>2025-07-11 21:15:39</td>\n",
       "      <td>Overview of Generative AI Service Generative A...</td>\n",
       "    </tr>\n",
       "    <tr>\n",
       "      <th>1</th>\n",
       "      <td>2</td>\n",
       "      <td>https://docs.oracle.com/en-us/iaas/Content/gen...</td>\n",
       "      <td>Overview of Generative AI Service</td>\n",
       "      <td>1130</td>\n",
       "      <td>7103</td>\n",
       "      <td>0</td>\n",
       "      <td>9</td>\n",
       "      <td>docs.oracle.com</td>\n",
       "      <td>/en-us/iaas/Content/generative-ai/overview.htm</td>\n",
       "      <td>Overview</td>\n",
       "      <td>Overview</td>\n",
       "      <td>success</td>\n",
       "      <td>2025-07-11 21:15:39</td>\n",
       "      <td>Overview of Generative AI Service Generative A...</td>\n",
       "    </tr>\n",
       "  </tbody>\n",
       "</table>\n",
       "</div>"
      ],
      "text/plain": [
       "   id                                                url  \\\n",
       "0   1  https://docs.oracle.com/en-us/iaas/Content/gen...   \n",
       "1   2  https://docs.oracle.com/en-us/iaas/Content/gen...   \n",
       "\n",
       "                               title  word_count  character_count  depth  \\\n",
       "0  Overview of Generative AI Service        1130             7103      0   \n",
       "1  Overview of Generative AI Service        1130             7103      0   \n",
       "\n",
       "   links_found           domain  \\\n",
       "0            9  docs.oracle.com   \n",
       "1            9  docs.oracle.com   \n",
       "\n",
       "                                             path  url_type   section  \\\n",
       "0  /en-us/iaas/Content/generative-ai/overview.htm  Overview  Overview   \n",
       "1  /en-us/iaas/Content/generative-ai/overview.htm  Overview  Overview   \n",
       "\n",
       "    status    scraped_timestamp  \\\n",
       "0  success  2025-07-11 21:15:39   \n",
       "1  success  2025-07-11 21:15:39   \n",
       "\n",
       "                                                text  \n",
       "0  Overview of Generative AI Service Generative A...  \n",
       "1  Overview of Generative AI Service Generative A...  "
      ]
     },
     "execution_count": 4,
     "metadata": {},
     "output_type": "execute_result"
    }
   ],
   "source": [
    "detailed = pd.read_csv('oracle_docs_detailed.csv')\n",
    "print(len(detailed))\n",
    "detailed.head(2)"
   ]
  },
  {
   "cell_type": "code",
   "execution_count": 39,
   "id": "6bc0e7f4",
   "metadata": {},
   "outputs": [
    {
     "name": "stdout",
     "output_type": "stream",
     "text": [
      "203\n"
     ]
    },
    {
     "data": {
      "text/html": [
       "<div>\n",
       "<style scoped>\n",
       "    .dataframe tbody tr th:only-of-type {\n",
       "        vertical-align: middle;\n",
       "    }\n",
       "\n",
       "    .dataframe tbody tr th {\n",
       "        vertical-align: top;\n",
       "    }\n",
       "\n",
       "    .dataframe thead th {\n",
       "        text-align: right;\n",
       "    }\n",
       "</style>\n",
       "<table border=\"1\" class=\"dataframe\">\n",
       "  <thead>\n",
       "    <tr style=\"text-align: right;\">\n",
       "      <th></th>\n",
       "      <th>url</th>\n",
       "      <th>title</th>\n",
       "      <th>word_count</th>\n",
       "      <th>depth</th>\n",
       "      <th>links_found</th>\n",
       "      <th>domain</th>\n",
       "      <th>path</th>\n",
       "      <th>status</th>\n",
       "      <th>text</th>\n",
       "    </tr>\n",
       "  </thead>\n",
       "  <tbody>\n",
       "    <tr>\n",
       "      <th>0</th>\n",
       "      <td>https://docs.oracle.com/en-us/iaas/Content/gen...</td>\n",
       "      <td>Overview of Generative AI Service</td>\n",
       "      <td>1130</td>\n",
       "      <td>0</td>\n",
       "      <td>9</td>\n",
       "      <td>docs.oracle.com</td>\n",
       "      <td>/en-us/iaas/Content/generative-ai/overview.htm</td>\n",
       "      <td>success</td>\n",
       "      <td>Overview of Generative AI Service Generative A...</td>\n",
       "    </tr>\n",
       "    <tr>\n",
       "      <th>1</th>\n",
       "      <td>https://docs.oracle.com/en-us/iaas/Content/gen...</td>\n",
       "      <td>Overview of Generative AI Service</td>\n",
       "      <td>1130</td>\n",
       "      <td>0</td>\n",
       "      <td>9</td>\n",
       "      <td>docs.oracle.com</td>\n",
       "      <td>/en-us/iaas/Content/generative-ai/overview.htm</td>\n",
       "      <td>success</td>\n",
       "      <td>Overview of Generative AI Service Generative A...</td>\n",
       "    </tr>\n",
       "  </tbody>\n",
       "</table>\n",
       "</div>"
      ],
      "text/plain": [
       "                                                 url  \\\n",
       "0  https://docs.oracle.com/en-us/iaas/Content/gen...   \n",
       "1  https://docs.oracle.com/en-us/iaas/Content/gen...   \n",
       "\n",
       "                               title  word_count  depth  links_found  \\\n",
       "0  Overview of Generative AI Service        1130      0            9   \n",
       "1  Overview of Generative AI Service        1130      0            9   \n",
       "\n",
       "            domain                                            path   status  \\\n",
       "0  docs.oracle.com  /en-us/iaas/Content/generative-ai/overview.htm  success   \n",
       "1  docs.oracle.com  /en-us/iaas/Content/generative-ai/overview.htm  success   \n",
       "\n",
       "                                                text  \n",
       "0  Overview of Generative AI Service Generative A...  \n",
       "1  Overview of Generative AI Service Generative A...  "
      ]
     },
     "execution_count": 39,
     "metadata": {},
     "output_type": "execute_result"
    }
   ],
   "source": [
    "recursive = pd.read_csv('oracle_docs_recursive.csv')\n",
    "#Drop repeated rows\n",
    "recursive = recursive[~recursive.apply(lambda text: (text == text.iloc[0]).all(), axis=1)]\n",
    "print(len(recursive))\n",
    "recursive.head(2)"
   ]
  },
  {
   "cell_type": "code",
   "execution_count": 30,
   "id": "81cddca9",
   "metadata": {},
   "outputs": [
    {
     "name": "stdout",
     "output_type": "stream",
     "text": [
      "35\n"
     ]
    },
    {
     "data": {
      "text/html": [
       "<div>\n",
       "<style scoped>\n",
       "    .dataframe tbody tr th:only-of-type {\n",
       "        vertical-align: middle;\n",
       "    }\n",
       "\n",
       "    .dataframe tbody tr th {\n",
       "        vertical-align: top;\n",
       "    }\n",
       "\n",
       "    .dataframe thead th {\n",
       "        text-align: right;\n",
       "    }\n",
       "</style>\n",
       "<table border=\"1\" class=\"dataframe\">\n",
       "  <thead>\n",
       "    <tr style=\"text-align: right;\">\n",
       "      <th></th>\n",
       "      <th>url</th>\n",
       "      <th>title</th>\n",
       "      <th>text</th>\n",
       "      <th>word_count</th>\n",
       "      <th>status</th>\n",
       "      <th>error</th>\n",
       "    </tr>\n",
       "  </thead>\n",
       "  <tbody>\n",
       "    <tr>\n",
       "      <th>0</th>\n",
       "      <td>https://docs.oracle.com/en-us/iaas/Content/gen...</td>\n",
       "      <td>Overview of Generative AI Service</td>\n",
       "      <td>Overview of Generative AI Service Generative A...</td>\n",
       "      <td>1130</td>\n",
       "      <td>success</td>\n",
       "      <td>NaN</td>\n",
       "    </tr>\n",
       "    <tr>\n",
       "      <th>1</th>\n",
       "      <td>https://docs.oracle.com/en-us/iaas/Content/gen...</td>\n",
       "      <td>Overview of Generative AI Service</td>\n",
       "      <td>Overview of Generative AI Service Generative A...</td>\n",
       "      <td>1130</td>\n",
       "      <td>success</td>\n",
       "      <td>NaN</td>\n",
       "    </tr>\n",
       "  </tbody>\n",
       "</table>\n",
       "</div>"
      ],
      "text/plain": [
       "                                                 url  \\\n",
       "0  https://docs.oracle.com/en-us/iaas/Content/gen...   \n",
       "1  https://docs.oracle.com/en-us/iaas/Content/gen...   \n",
       "\n",
       "                               title  \\\n",
       "0  Overview of Generative AI Service   \n",
       "1  Overview of Generative AI Service   \n",
       "\n",
       "                                                text  word_count   status  \\\n",
       "0  Overview of Generative AI Service Generative A...        1130  success   \n",
       "1  Overview of Generative AI Service Generative A...        1130  success   \n",
       "\n",
       "   error  \n",
       "0    NaN  \n",
       "1    NaN  "
      ]
     },
     "execution_count": 30,
     "metadata": {},
     "output_type": "execute_result"
    }
   ],
   "source": [
    "scraped = pd.read_csv('oracle_docs_scraped.csv')\n",
    "print(len(scraped))\n",
    "scraped.head(2)\n"
   ]
  }
 ],
 "metadata": {
  "kernelspec": {
   "display_name": "RAGvenv",
   "language": "python",
   "name": "python3"
  },
  "language_info": {
   "codemirror_mode": {
    "name": "ipython",
    "version": 3
   },
   "file_extension": ".py",
   "mimetype": "text/x-python",
   "name": "python",
   "nbconvert_exporter": "python",
   "pygments_lexer": "ipython3",
   "version": "3.12.10"
  }
 },
 "nbformat": 4,
 "nbformat_minor": 5
}
